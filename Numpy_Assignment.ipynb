{
 "cells": [
  {
   "cell_type": "markdown",
   "metadata": {},
   "source": [
    "## 1 .Write a function so that the columns of the output matrix are powers of the input vector.The order of the powers is determined by the increasing boolean argument. Specifically, when increasing is False, the i-th output column is the input vector raised element-wise to the power of N - i - 1."
   ]
  },
  {
   "cell_type": "code",
   "execution_count": 29,
   "metadata": {},
   "outputs": [
    {
     "name": "stdout",
     "output_type": "stream",
     "text": [
      "5\n",
      "N value is : 5\n",
      "Vandermonde matrix when increasing is : True \n",
      " [[   1    1    1    1    1    1]\n",
      " [   1    2    4    8   16   32]\n",
      " [   1    3    9   27   81  243]\n",
      " [   1    4   16   64  256 1024]\n",
      " [   1    5   25  125  625 3125]]\n",
      "5\n",
      "N value is : 5\n",
      "Vandermonde matrix when increasing is : False \n",
      " [[   1    1    1    1    1    1]\n",
      " [  32   16    8    4    2    1]\n",
      " [ 243   81   27    9    3    1]\n",
      " [1024  256   64   16    4    1]\n",
      " [3125  625  125   25    5    1]]\n"
     ]
    }
   ],
   "source": [
    "import numpy as np\n",
    "def Vandermonde(n,increasing):\n",
    "    print(\"N value is :\",n)\n",
    "    final = []\n",
    "    if(increasing == True):        \n",
    "        for i in  range(1,n+1):\n",
    "            res = []\n",
    "            for j in range(0,n+1):\n",
    "                res.append(i**j)\n",
    "            final.append(res)\n",
    "        print(\"Vandermonde matrix when increasing is : True \\n\",np.array(final))\n",
    "    if(increasing == False):\n",
    "        for i in  range(1,n+1):\n",
    "            res = []\n",
    "            for j in range(n,-1,-1):\n",
    "                res.append(i**j)\n",
    "            final.append(res)\n",
    "        print(\"Vandermonde matrix when increasing is : False \\n\",np.array(final))\n",
    "    \n",
    "Vandermonde(int(input()),increasing = True)    \n",
    "Vandermonde(int(input()),increasing = False)"
   ]
  },
  {
   "cell_type": "markdown",
   "metadata": {},
   "source": [
    "# 2. Given a sequence of n values x1, x2, ..., xn and a window size k>0, the k-th moving average of the given sequence is defined as follows:"
   ]
  },
  {
   "cell_type": "code",
   "execution_count": 49,
   "metadata": {},
   "outputs": [
    {
     "name": "stdout",
     "output_type": "stream",
     "text": [
      "Enter window_size  : 4\n",
      "10 20 30 40 50 60 70 80 90 100\n",
      "1 avg  Output is :  25\n",
      "2 avg  Output is :  35\n",
      "3 avg  Output is :  45\n",
      "4 avg  Output is :  55\n",
      "5 avg  Output is :  65\n",
      "6 avg  Output is :  75\n",
      "7 avg  Output is :  85\n",
      "============================================================\n",
      "Enter window_size  : 3\n",
      "3 5 7 2 8 10 11 65 72 81 99 100 150\n",
      "1 avg  Output is :  5\n",
      "2 avg  Output is :  4\n",
      "3 avg  Output is :  5\n",
      "4 avg  Output is :  6\n",
      "5 avg  Output is :  9\n",
      "6 avg  Output is :  28\n",
      "7 avg  Output is :  49\n",
      "8 avg  Output is :  72\n",
      "9 avg  Output is :  84\n",
      "10 avg  Output is :  93\n",
      "11 avg  Output is :  116\n",
      "============================================================\n"
     ]
    }
   ],
   "source": [
    "def my_avg(window_size):\n",
    "    inp = list(map(int,input().split()))\n",
    "    n   = len(inp)\n",
    "    c = 0\n",
    "    for i in range(0,n-window_size+1):\n",
    "        summ = 0\n",
    "        for j in range(i,window_size+i):\n",
    "            #print(inp[j])\n",
    "            summ += inp[j]\n",
    "        c = c+1    \n",
    "        print(c,\"avg  Output is : \",int(summ/window_size))\n",
    "            \n",
    "        \n",
    "for _ in range(2):\n",
    "    my_avg(int(input(\"Enter window_size  : \")))\n",
    "    print(\"==\"*30)"
   ]
  },
  {
   "cell_type": "code",
   "execution_count": 52,
   "metadata": {},
   "outputs": [
    {
     "data": {
      "text/plain": [
       "116"
      ]
     },
     "execution_count": 52,
     "metadata": {},
     "output_type": "execute_result"
    }
   ],
   "source": [
    "(99+100+150)//3"
   ]
  },
  {
   "cell_type": "code",
   "execution_count": null,
   "metadata": {},
   "outputs": [],
   "source": [
    "3 5 7 2 8 10 11 65 72 81 99 100 150"
   ]
  }
 ],
 "metadata": {
  "kernelspec": {
   "display_name": "Python 3",
   "language": "python",
   "name": "python3"
  },
  "language_info": {
   "codemirror_mode": {
    "name": "ipython",
    "version": 3
   },
   "file_extension": ".py",
   "mimetype": "text/x-python",
   "name": "python",
   "nbconvert_exporter": "python",
   "pygments_lexer": "ipython3",
   "version": "3.7.4"
  }
 },
 "nbformat": 4,
 "nbformat_minor": 2
}
